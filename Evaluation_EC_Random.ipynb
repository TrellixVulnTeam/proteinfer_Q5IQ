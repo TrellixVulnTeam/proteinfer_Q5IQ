{
  "nbformat": 4,
  "nbformat_minor": 2,
  "metadata": {
    "colab": {
      "name": "CNN colab - with bootstrap graphs",
      "provenance": [],
      "collapsed_sections": [
        "55knmU-w4OPK",
        "wgU7aSau4qzg",
        "aaSAa1xr5KXD",
        "H-yqN7iZR4vK",
        "UaR0teacxMH8",
        "G4aq7gtaAQmx",
        "aSOdgXSpHiYx"
      ],
      "toc_visible": true
    },
    "kernelspec": {
      "display_name": "Python 3",
      "name": "python3"
    }
  },
  "cells": [
    {
      "cell_type": "markdown",
      "source": [
        "# Setup\n",
        "\n"
      ],
      "metadata": {
        "id": "nHWvlZYR7UAl"
      }
    },
    {
      "cell_type": "markdown",
      "source": [
        "## Get files / dependencies"
      ],
      "metadata": {
        "id": "55knmU-w4OPK"
      }
    },
    {
      "cell_type": "code",
      "execution_count": null,
      "source": [
        "%tensorflow_version 1"
      ],
      "outputs": [],
      "metadata": {
        "colab": {
          "base_uri": "https://localhost:8080/"
        },
        "id": "r0hWX2veJHpI",
        "outputId": "4335c635-bab8-4f48-c162-fcd4f79414b8"
      }
    },
    {
      "cell_type": "code",
      "execution_count": null,
      "source": [
        "!git clone https://github.com/google-research/proteinfer \n",
        "\n",
        "%cd proteinfer\n",
        "\n",
        "!pip3 install -qr  requirements.txt\n",
        "\n",
        "import pandas as pd\n",
        "import tensorflow\n",
        "import inference\n",
        "import parenthood_lib\n",
        "import baseline_utils,subprocess\n",
        "import shlex\n",
        "import tqdm \n",
        "import sklearn\n",
        "import numpy as np\n",
        "import utils\n",
        "import colab_evaluation\n",
        "import plotly.express as px\n",
        "\n",
        "from plotnine import ggplot, geom_point, geom_point, geom_line, aes, stat_smooth, facet_wrap, xlim,coord_cartesian,theme_bw,labs,ggsave\n"
      ],
      "outputs": [],
      "metadata": {
        "colab": {
          "background_save": true,
          "base_uri": "https://localhost:8080/"
        },
        "id": "W3Y3LpXhZSWh",
        "outputId": "2a7f28e0-0107-4365-e99d-27a43a2a921e"
      }
    },
    {
      "cell_type": "code",
      "execution_count": null,
      "source": [
        "!wget -qN https://storage.googleapis.com/brain-genomics-public/research/proteins/proteinfer/models/zipped_models/noxpnd_cnn_swissprot_ec_random_swiss-cnn_for_swissprot_ec_random-13685140.tar.gz\n",
        "!tar xzf noxpnd_cnn_swissprot_ec_random_swiss-cnn_for_swissprot_ec_random-13685140.tar.gz\n",
        "!wget -qN https://storage.googleapis.com/brain-genomics-public/research/proteins/proteinfer/colab_support/parenthood.json.gz\n",
        "!wget -qN https://storage.googleapis.com/brain-genomics-public/research/proteins/proteinfer/blast_baseline/fasta_files/SWISSPROT_RANDOM_EC/eval_test.fasta"
      ],
      "outputs": [],
      "metadata": {
        "colab": {
          "background_save": true
        },
        "id": "n_XWusDibLE-"
      }
    },
    {
      "cell_type": "markdown",
      "source": [
        "## Load vocabulary and parenthood information"
      ],
      "metadata": {
        "id": "wgU7aSau4qzg"
      }
    },
    {
      "cell_type": "code",
      "execution_count": null,
      "source": [
        "vocab = inference.Inferrer(\n",
        "    'noxpnd_cnn_swissprot_ec_random_swiss-cnn_for_swissprot_ec_random-13685140'\n",
        ").get_variable('label_vocab:0').astype(str)\n",
        "label_normalizer = parenthood_lib.get_applicable_label_dict(\n",
        "    'parenthood.json.gz')"
      ],
      "outputs": [],
      "metadata": {
        "colab": {
          "background_save": true
        },
        "id": "gY6_MDLc4jw0",
        "outputId": "3d7de4bc-a6cb-4085-bbbf-732ee05450b8"
      }
    },
    {
      "cell_type": "markdown",
      "source": [
        "## Define a helper function to download inference results"
      ],
      "metadata": {
        "id": "aaSAa1xr5KXD"
      }
    },
    {
      "cell_type": "code",
      "execution_count": null,
      "source": [
        "def download_inference_results(run_name):\n",
        "  file_shard_names = ['-{:05d}-of-00064.predictions.gz'.format(i) for i in range(64)]\n",
        "  subprocess.check_output(shlex.split(f'mkdir -p ./inference_results/{run_name}/'))\n",
        "\n",
        "  for shard_name in tqdm.tqdm(file_shard_names, position=0,desc=\"Downloading\"):\n",
        "    subprocess.check_output(shlex.split(f'wget https://storage.googleapis.com/brain-genomics-public/research/proteins/proteinfer/swissprot_inference_results/{run_name}/{shard_name} -O ./inference_results/{run_name}/{shard_name}'))\n",
        "  return "
      ],
      "outputs": [],
      "metadata": {
        "colab": {
          "background_save": true
        },
        "id": "SGsml7EVbTO9"
      }
    },
    {
      "cell_type": "markdown",
      "source": [
        "## Downloading predictions and getting them ready for analysis"
      ],
      "metadata": {
        "id": "H-yqN7iZR4vK"
      }
    },
    {
      "cell_type": "code",
      "execution_count": null,
      "source": [
        "min_decision_threshold = 1e-10\n",
        "download_inference_results(f\"ec_random_test\")\n",
        "predictions_df = colab_evaluation.get_normalized_inference_results(\"inference_results/ec_random_test\",vocab,label_normalizer,min_decision_threshold=min_decision_threshold)"
      ],
      "outputs": [],
      "metadata": {
        "colab": {
          "background_save": true
        },
        "id": "RZtlXNu8gKWd",
        "outputId": "09ed6ff9-2e78-4d35-dc6d-3b38a6097278"
      }
    },
    {
      "cell_type": "code",
      "execution_count": null,
      "source": [
        "test_ground_truth = baseline_utils.load_ground_truth('eval_test.fasta')\n",
        "ground_truth_df = colab_evaluation.make_tidy_df_from_ground_truth(test_ground_truth)\n",
        "del test_ground_truth"
      ],
      "outputs": [],
      "metadata": {
        "colab": {
          "background_save": true
        },
        "id": "bLDLn75zC3Eu",
        "outputId": "a7cbfbab-c161-43d5-9c63-4b83ef54108f"
      }
    },
    {
      "cell_type": "markdown",
      "source": [
        "# Analysis\n",
        "\n",
        "Now we can get some statistics about our predictions. Let's start with a simple calculation of precision, recall and F1 for the whole dataset at a threshold of 0.5. "
      ],
      "metadata": {
        "id": "UaR0teacxMH8"
      }
    },
    {
      "cell_type": "markdown",
      "source": [
        "What happens in different EC classes - is there differential performance?"
      ],
      "metadata": {
        "id": "FTi3TivFxMIA"
      }
    },
    {
      "cell_type": "code",
      "execution_count": null,
      "source": [
        "def get_first_level_of_ec_hierarchy(ec):\n",
        "    ec_group_names = {\n",
        "        \"EC:1\": \"Oxidoreductases\",\n",
        "        \"EC:2\": \"Transferases\",\n",
        "        \"EC:3\": \"Hydrolases\",\n",
        "        \"EC:4\": \"Lyases\",\n",
        "        \"EC:5\": \"Isomerases\",\n",
        "        \"EC:6\": \"Ligases\",\n",
        "        \"EC:7\": \"Translocases\"\n",
        "    }\n",
        "    return ec_group_names[ec.split(\".\")[0]]\n",
        "\n",
        "top_level_ec_grouping = {x: get_first_level_of_ec_hierarchy(x) for x in vocab}\n",
        "\n",
        "colab_evaluation.apply_threshold_and_return_stats(\n",
        "    predictions_df, ground_truth_df, grouping=top_level_ec_grouping)"
      ],
      "outputs": [],
      "metadata": {
        "colab": {
          "background_save": true
        },
        "id": "eotFz2xxxMIA",
        "outputId": "01349bde-de64-47f0-e20b-7c310944e90a"
      }
    },
    {
      "cell_type": "markdown",
      "source": [
        "And what about at different levels of the EC hierarchy?"
      ],
      "metadata": {
        "id": "S354lNUzxMIB"
      }
    },
    {
      "cell_type": "code",
      "execution_count": null,
      "source": [
        "bootstrapped_merge = pd.concat([\n",
        "    bootstrapped_data_blast, bootstrapped_data, bootstrapped_data_ens,\n",
        "    bootstrapped_data_combo\n",
        "],\n",
        "                               ignore_index=True)\n",
        "    num_of_dashes = ec.count(\"-\")\n",
        "bootstrapped_merge['count_cut_str'] = bootstrapped_merge['count_cut'].astype(\n",
        "    str)\n",
        "fig = px.box(bootstrapped_merge,\n",
        "             width=700,\n",
        "             color=\"type\",\n",
        "             x=\"count_cut_str\",\n",
        "             y=\"f1\",\n",
        "             labels={\n",
        "                 \"count_cut_str\": \"Number of training examples per label\",\n",
        "                 \"f1\": \"F1\"\n",
        "             },\n",
        "             template=\"simple_white\")\n",
        "\n",
        "level_of_hierachy_grouping = {x: get_level_of_hierarchy(x) for x in vocab}\n",
        "\n",
        "level_data = colab_evaluation.apply_threshold_and_return_stats(\n",
        "    predictions_df, ground_truth_df, grouping=level_of_hierachy_grouping)\n",
        "ggplot(level_data, aes(x=\"group\", y=\"f1\")) + geom_point() + geom_point(\n",
        ") + geom_line() + theme_bw() + labs(\n",
        "    x=\"Level of hierarchy\", y=\"F1 score\") + coord_cartesian(ylim=[0.95, 0.99])"
      ],
      "outputs": [],
      "metadata": {
        "colab": {
          "background_save": true
        },
        "id": "HOTqUhqyxMIC",
        "outputId": "6ae1b383-9954-4c8c-b068-7b2ef4ad2d57"
      }
    },
    {
      "cell_type": "markdown",
      "source": [
        "Now let's try varying the threshold to generate a precision-recall curve."
      ],
      "metadata": {
        "id": "69I2wI1oxMIC"
      }
    },
    {
      "cell_type": "code",
      "execution_count": null,
      "source": [
        "cnn_pr_data = colab_evaluation.get_pr_curve_df(predictions_df,ground_truth_df)"
      ],
      "outputs": [],
      "metadata": {
        "colab": {
          "background_save": true
        },
        "id": "Z9YIbO0dxMIC",
        "outputId": "4ed48def-7f89-4192-eea1-76fa21c46766"
      }
    },
    {
      "cell_type": "code",
      "execution_count": null,
      "source": [
        "cnn_pr_data.drop(index=0)"
      ],
      "outputs": [],
      "metadata": {
        "colab": {
          "background_save": true
        },
        "id": "mxmaF5PCySFF",
        "outputId": "ddcc8b0e-e44e-4d83-9f80-e56bc619560c"
      }
    },
    {
      "cell_type": "code",
      "execution_count": null,
      "source": [
        "ggplot(cnn_pr_data.drop(index=0), aes(x=\"recall\", y=\"precision\", color=\"f1\")) + geom_line(\n",
        ") + geom_line() + coord_cartesian(xlim=(0.96, 1)) + theme_bw() + labs(\n",
        "    x=\"Recall\", y=\"Precision\", color=\"F1 Score\")"
      ],
      "outputs": [],
      "metadata": {
        "colab": {
          "background_save": true
        },
        "id": "2hmFNu1oxMIC",
        "outputId": "0268416a-26cc-4533-94ac-c125792eabb9"
      }
    },
    {
      "cell_type": "markdown",
      "source": [
        "What decision threshold maximises F1 score?"
      ],
      "metadata": {
        "id": "40A0Yx1NxMID"
      }
    },
    {
      "cell_type": "code",
      "execution_count": null,
      "source": [
        "cnn_pr_data.sort_values('f1',ascending=False)[:3]"
      ],
      "outputs": [],
      "metadata": {
        "colab": {
          "background_save": true
        },
        "id": "R_6fybn3xMID",
        "outputId": "e512600b-37fa-417e-9f89-52d4855a70e0"
      }
    },
    {
      "cell_type": "markdown",
      "source": [
        "Now let's have a look at PR curves for each different top level group."
      ],
      "metadata": {
        "id": "9H9UiNZXxMIE"
      }
    },
    {
      "cell_type": "markdown",
      "source": [
        "# Load CNN ensemble predictions"
      ],
      "metadata": {
        "id": "G4aq7gtaAQmx"
      }
    },
    {
      "cell_type": "code",
      "execution_count": null,
      "source": [
        "min_decision_threshold = 1e-10\n",
        "download_inference_results(f\"ec_random_test_ens\")\n",
        "ens_predictions_df = colab_evaluation.get_normalized_inference_results(\"inference_results/ec_random_test_ens\",vocab,label_normalizer,min_decision_threshold=min_decision_threshold)"
      ],
      "outputs": [],
      "metadata": {
        "colab": {
          "background_save": true
        },
        "id": "EtefjIEV_Qut",
        "outputId": "bf4aef0c-2fd3-4427-ecca-03d0c4edb798"
      }
    },
    {
      "cell_type": "code",
      "execution_count": null,
      "source": [
        "ens_cnn_pr_data = colab_evaluation.get_pr_curve_df(ens_predictions_df,ground_truth_df)"
      ],
      "outputs": [],
      "metadata": {
        "colab": {
          "background_save": true
        },
        "id": "JLVF_tY8DVZx",
        "outputId": "89f072d1-7133-4d9a-a8d1-03b2746efc38"
      }
    },
    {
      "cell_type": "code",
      "execution_count": null,
      "source": [
        "ens_cnn_pr_data.sort_values('f1',ascending=False)[0:3]"
      ],
      "outputs": [],
      "metadata": {
        "colab": {
          "background_save": true
        },
        "id": "c9-YYhgeKoPX",
        "outputId": "1308d7b9-e5dc-45ec-b183-3a1551c050a4"
      }
    },
    {
      "cell_type": "code",
      "execution_count": null,
      "source": [
        "cnn_pr_data['method'] = \"CNN\"\n",
        "ens_cnn_pr_data['method'] = \"CNN Ensemble\""
      ],
      "outputs": [],
      "metadata": {
        "colab": {
          "background_save": true
        },
        "id": "6NvGPanNwkRy"
      }
    },
    {
      "cell_type": "code",
      "execution_count": null,
      "source": [
        "method_comparison = pd.concat([cnn_pr_data, ens_cnn_pr_data], ignore_index=True)\n",
        "ggplot(method_comparison, aes(x=\"recall\", y=\"precision\",\n",
        "                              color=\"method\",linetype=\"method\")) + geom_line() + coord_cartesian(\n",
        "                                  xlim=(0.91, 1),\n",
        "                                  ylim=(0.91, 1)) + theme_bw()+ labs(x=\"Recall\",y=\"Precision\",color=\"Method\")\n"
      ],
      "outputs": [],
      "metadata": {
        "colab": {
          "background_save": true
        },
        "id": "BKUHnc3qwsBp",
        "outputId": "34073e5b-7f14-4547-b990-653e05b86e74"
      }
    },
    {
      "cell_type": "markdown",
      "source": [
        "# Blast comparison"
      ],
      "metadata": {
        "id": "aSOdgXSpHiYx"
      }
    },
    {
      "cell_type": "markdown",
      "source": [
        "Let's do the same sort of analysis for a BLAST baseline."
      ],
      "metadata": {
        "id": "vvFBBYlmToXe"
      }
    },
    {
      "cell_type": "code",
      "execution_count": null,
      "source": [
        "!wget -qN https://storage.googleapis.com/brain-genomics-public/research/proteins/proteinfer/blast_baseline/blast_output/random/blast_out_test.tsv\n",
        "!wget -qN https://storage.googleapis.com/brain-genomics-public/research/proteins/proteinfer/blast_baseline/fasta_files/SWISSPROT_RANDOM_EC/eval_test.fasta\n",
        "!wget -qN https://storage.googleapis.com/brain-genomics-public/research/proteins/proteinfer/blast_baseline/fasta_files/SWISSPROT_RANDOM_EC/train.fasta\n",
        "train_ground_truth = colab_evaluation.make_tidy_df_from_ground_truth(baseline_utils.load_ground_truth('train.fasta')).rename(columns={\"up_id\":\"train_seq_id\"}).drop(columns=[\"gt\"])"
      ],
      "outputs": [],
      "metadata": {
        "colab": {
          "background_save": true
        },
        "id": "VXqzzmJOHjr8",
        "outputId": "434ab91a-34b2-4ca3-f708-5bf80b2d77d2"
      }
    },
    {
      "cell_type": "code",
      "execution_count": null,
      "source": [
        "blast_out = colab_evaluation.read_blast_table(\"blast_out_test.tsv\")\n",
        "blast_df = blast_out.merge(train_ground_truth,left_on=\"target\",right_on=\"train_seq_id\")\n",
        "blast_df.rename(columns={'bit_score':'value',\"query\":\"up_id\"}, inplace=True)"
      ],
      "outputs": [],
      "metadata": {
        "colab": {
          "background_save": true
        },
        "id": "NwD3Ers7IIBe"
      }
    },
    {
      "cell_type": "code",
      "execution_count": null,
      "source": [
        "min_decision_threshold=0\n",
        "blast_pr_data = colab_evaluation.get_pr_curve_df(\n",
        "    blast_df, ground_truth_df)\n",
        "blast_pr_data['method'] = 'BLAST'"
      ],
      "outputs": [],
      "metadata": {
        "colab": {
          "background_save": true
        },
        "id": "kcqNR0hQJwHv",
        "outputId": "7f92147e-8ccb-427e-a414-836095d2f35d"
      }
    },
    {
      "cell_type": "code",
      "execution_count": null,
      "source": [
        "cnn_pr_data['method'] = 'CNN'\n",
        "ens_cnn_pr_data['method'] = 'Ensembled CNN'\n",
        "method_comparison = pd.concat([cnn_pr_data.drop(index=0), ens_cnn_pr_data.drop(index=0), blast_pr_data.drop(index=0)], ignore_index=True)\n",
        "ggplot(method_comparison, aes(x=\"recall\", y=\"precision\",\n",
        "                              color=\"method\")) + geom_line() + coord_cartesian(\n",
        "                                  xlim=(0.90, 1),\n",
        "                                  ylim=(0.90, 1)) + theme_bw() + labs(x=\"Recall\",y=\"Precision\",color=\"Method\")\n"
      ],
      "outputs": [],
      "metadata": {
        "colab": {
          "background_save": true
        },
        "id": "2IIjwAbrOmTT",
        "outputId": "fedfcc85-e569-4ff8-9fbd-f955a8d26343"
      }
    },
    {
      "cell_type": "code",
      "execution_count": null,
      "source": [
        "method_comparison.groupby(\"method\")[['f1']].agg(max)"
      ],
      "outputs": [],
      "metadata": {
        "colab": {
          "background_save": true
        },
        "id": "DdPDKvc7axjD",
        "outputId": "348a08de-cffa-430a-faad-6cf6429b03f6"
      }
    },
    {
      "cell_type": "code",
      "execution_count": null,
      "source": [
        "method_comparison.sort_values('f1', ascending=False).drop_duplicates(['method'])"
      ],
      "outputs": [],
      "metadata": {
        "colab": {
          "background_save": true
        },
        "id": "JoW4Rg7Ln2Bd",
        "outputId": "954f75a2-cc75-4b85-9b69-10e260afa794"
      }
    },
    {
      "cell_type": "markdown",
      "source": [
        "Let's investigate what's going on at the left hand side of the graph where the CNN and ensemble achieve greater precision than BLAST."
      ],
      "metadata": {
        "id": "_VyNMIBZcAfk"
      }
    },
    {
      "cell_type": "code",
      "execution_count": null,
      "source": [
        "def get_x_where_y_is_closest_to_z(df, x, y, z):\n",
        "    return df.iloc[(df[y] - z).abs().argsort()[:1]][x]\n",
        "\n",
        "\n",
        "cnn_threshold = float(\n",
        "    get_x_where_y_is_closest_to_z(\n",
        "        cnn_pr_data, x=\"threshold\", y=\"recall\", z=0.96))\n",
        "blast_threshold = float(\n",
        "    get_x_where_y_is_closest_to_z(\n",
        "        blast_pr_data, x=\"threshold\", y=\"recall\", z=0.96))\n",
        "\n",
        "cnn_results = colab_evaluation.assign_tp_fp_fn(ens_predictions_df, ground_truth_df, cnn_threshold)\n",
        "\n",
        "blast_results = colab_evaluation.assign_tp_fp_fn(blast_df, ground_truth_df, blast_threshold)\n",
        "\n",
        "merged = cnn_results.merge(\n",
        "    blast_results,\n",
        "    how=\"outer\",\n",
        "    suffixes=(\"_ens_cnn\", \"_blast\"),\n",
        "    left_on=[\"label\", \"up_id\", \"gt\"],\n",
        "    right_on=[\"label\", \"up_id\", \"gt\"])\n"
      ],
      "outputs": [],
      "metadata": {
        "colab": {
          "background_save": true
        },
        "id": "UQ0as8vXMNEW"
      }
    },
    {
      "cell_type": "code",
      "execution_count": null,
      "source": [
        "blast_info = blast_out[['up_id','target','pc_identity']]"
      ],
      "outputs": [],
      "metadata": {
        "colab": {
          "background_save": true
        },
        "id": "v4f6jjepehLW"
      }
    },
    {
      "cell_type": "markdown",
      "source": [
        "Let's list some of the BLAST false-positives in case we want to investigate what's going on."
      ],
      "metadata": {
        "id": "PF2TB_jNomft"
      }
    },
    {
      "cell_type": "code",
      "execution_count": null,
      "source": [
        "merged.query(\"fp_blast==True and fp_ens_cnn==False\").head()"
      ],
      "outputs": [],
      "metadata": {
        "colab": {
          "background_save": true
        },
        "id": "fchf2u1wdihM",
        "outputId": "8d2c1333-0f4d-416d-fa5b-945fde54a9b7"
      }
    },
    {
      "cell_type": "markdown",
      "source": [
        "# An ensemble of BLAST and ensembled-CNNs\n",
        "\n",
        "We've seen that the CNN-ensemble and BLAST have different strengths - at lower recalls the CNN appears to have greater precision than BLAST at lower recalls, but BLAST has better recall at lower precisions. Can we combine these approaches to get a predictor with the best of both worlds?"
      ],
      "metadata": {
        "id": "kXvgYdoIEC8x"
      }
    },
    {
      "cell_type": "code",
      "execution_count": null,
      "source": [
        "\n",
        "blast_and_cnn_ensemble = ens_predictions_df.merge(\n",
        "    blast_df,\n",
        "    how=\"outer\",\n",
        "    suffixes=(\"_ens_cnn\", \"_blast\"),\n",
        "    left_on=[\"label\", \"up_id\"],\n",
        "    right_on=[\"label\", \"up_id\"])"
      ],
      "outputs": [],
      "metadata": {
        "colab": {
          "background_save": true
        },
        "id": "8c3FW0x6GgR5"
      }
    },
    {
      "cell_type": "code",
      "execution_count": null,
      "source": [
        "blast_and_cnn_ensemble=blast_and_cnn_ensemble.fillna(False)"
      ],
      "outputs": [],
      "metadata": {
        "colab": {
          "background_save": true
        },
        "id": "WqkATRN3GqDE"
      }
    },
    {
      "cell_type": "markdown",
      "source": [
        "We will create a simple ensemble where the value of the predictor is simply the multiple of the probability assigned by the ensemble of neural networks and the bit-score linking this sequence to to an example with this label by BLAST."
      ],
      "metadata": {
        "id": "QNO1n03TJp6z"
      }
    },
    {
      "cell_type": "code",
      "execution_count": null,
      "source": [
        "blast_and_cnn_ensemble['value']=blast_and_cnn_ensemble['value_ens_cnn']*blast_and_cnn_ensemble['value_blast']"
      ],
      "outputs": [],
      "metadata": {
        "colab": {
          "background_save": true
        },
        "id": "8FbzU_6QGvZS"
      }
    },
    {
      "cell_type": "code",
      "execution_count": null,
      "source": [
        "blast_and_cnn_ensemble_pr = colab_evaluation.get_pr_curve_df(\n",
        "    blast_and_cnn_ensemble, ground_truth_df)"
      ],
      "outputs": [],
      "metadata": {
        "colab": {
          "background_save": true
        },
        "id": "ahX0RAesG6Nb",
        "outputId": "76bdf288-c7c9-4b95-d8ed-d63e3f33dc35"
      }
    },
    {
      "cell_type": "code",
      "execution_count": null,
      "source": [
        "blast_and_cnn_ensemble_pr.f1.max()"
      ],
      "outputs": [],
      "metadata": {
        "colab": {
          "background_save": true
        },
        "id": "He1PKIk2wfes",
        "outputId": "61904561-4bf2-4582-e80c-1d9928541ca4"
      }
    },
    {
      "cell_type": "code",
      "execution_count": null,
      "source": [
        "blast_and_cnn_ensemble_pr['method']='Ensemble of BLAST  with  Ensembled-CNN'"
      ],
      "outputs": [],
      "metadata": {
        "colab": {
          "background_save": true
        },
        "id": "JjVIWQabHI9z"
      }
    },
    {
      "cell_type": "code",
      "execution_count": null,
      "source": [
        "cnn_pr_data['method'] = 'CNN'\n",
        "ens_cnn_pr_data['method'] = 'Ensembled CNN'\n",
        "method_comparison = pd.concat([cnn_pr_data.drop(index=0), ens_cnn_pr_data.drop(index=0), blast_pr_data.drop(index=0),blast_and_cnn_ensemble_pr.drop(index=0)], ignore_index=True)\n",
        "ggplot(method_comparison, aes(x=\"recall\", y=\"precision\",\n",
        "                              color=\"method\")) + geom_line() + coord_cartesian(\n",
        "                                  xlim=(0.93, 1),\n",
        "                                  ylim=(0.93, 1)) + theme_bw() + labs(x=\"Recall\",y=\"Precision\",color=\"Method\")\n"
      ],
      "outputs": [],
      "metadata": {
        "colab": {
          "background_save": true
        },
        "id": "BXLI2DaoHIRd",
        "outputId": "eff16d31-102a-4a50-e709-446741ef421d"
      }
    },
    {
      "cell_type": "code",
      "execution_count": null,
      "source": [
        "method_comparison=method_comparison.query(\"recall!=1.0\")\n",
        "fig = px.line(method_comparison, \n",
        "    x=\"recall\", y=\"precision\", color=\"method\")\n",
        "fig.update_layout(template=\"plotly_white\", title=\"Precision-recall by method\")\n",
        "fig.update_xaxes(range=(0.95, 1))\n",
        "fig.update_yaxes(range=(0.95, 1))\n",
        "fig.show()\n",
        "json=fig.to_json(pretty=True)\n",
        "with open(\"method.json\",\"w\") as f:\n",
        "  f.write(json)"
      ],
      "outputs": [],
      "metadata": {
        "colab": {
          "background_save": true
        },
        "id": "Jo3iGx1XZ8t7",
        "outputId": "64fdb097-a6da-4479-8e61-446be7fa5c71"
      }
    },
    {
      "cell_type": "code",
      "execution_count": null,
      "source": [
        "method_comparison.groupby(\"method\")[['f1']].agg(max)"
      ],
      "outputs": [],
      "metadata": {
        "colab": {
          "background_save": true
        },
        "id": "mLOljUevHki1",
        "outputId": "e7b08793-023f-4131-a6f1-6c6bb850c1bf"
      }
    },
    {
      "cell_type": "markdown",
      "source": [
        "# Bootstrapping"
      ],
      "metadata": {
        "id": "Nz4dbIOk0M9a"
      }
    },
    {
      "cell_type": "markdown",
      "source": [
        "## Defining functions"
      ],
      "metadata": {
        "id": "gx8A9-eZMT-9"
      }
    },
    {
      "cell_type": "code",
      "execution_count": null,
      "source": [
        "import collections\n",
        "def get_bootstrapped_pr_curves(predictions_df,ground_truth_df, grouping=None, n =100, method_label = None,sample_with_replacement = True):\n",
        " \n",
        "  joined = predictions_df[predictions_df.value > 1e-10].merge(ground_truth_df, on=['up_id', 'label'], how='outer')\n",
        "  unique_up_ids = joined['up_id'].unique()\n",
        "\n",
        "\n",
        "  pr_samples = []\n",
        "  for _ in tqdm.tqdm(range(n)):\n",
        "    sampled_up_ids =np.random.choice(unique_up_ids, len(unique_up_ids),sample_with_replacement)\n",
        "    \n",
        "    \n",
        "\n",
        "    count_by_sample = collections.Counter(sampled_up_ids)\n",
        "    count_by_sample_ordered = [count_by_sample[x] for x in joined.up_id]\n",
        "    joined_sampled = pd.DataFrame(np.repeat(joined.values, count_by_sample_ordered, axis=0), columns=joined.columns)\n",
        "    unique_suffixes_counter = collections.defaultdict(lambda: 0)\n",
        "    unique_suffixes = []\n",
        "    for row in joined_sampled.values:\n",
        "      lookup_key = (row[0], row[1])\n",
        "      unique_suffixes.append(unique_suffixes_counter[lookup_key])\n",
        "      unique_suffixes_counter[lookup_key] += 1\n",
        "\n",
        "    joined_sampled['up_id'] = [f'{x}-{y}' for x, y in zip(joined_sampled.up_id, unique_suffixes)]\n",
        "    \n",
        "    pred = joined_sampled[joined_sampled['value'].notna()][['up_id', 'label', 'value']]\n",
        "    gt = joined_sampled[joined_sampled['gt'].notna()][['up_id', 'label', 'gt']]\n",
        "\n",
        "    pr_curves = colab_evaluation.get_pr_curve_df(\n",
        "      pred, gt ,grouping = grouping)\n",
        "    pr_curves.loc[pr_curves['threshold']==0.0,'precision']=0\n",
        "    pr_curves.loc[pr_curves['threshold']==0.0,'f1']=0\n",
        "    pr_curves['type'] = method_label\n",
        "    pr_samples.append(pr_curves)\n",
        "  return pr_samples"
      ],
      "outputs": [],
      "metadata": {
        "colab": {
          "background_save": true
        },
        "id": "6ZrJzUIVcjm6"
      }
    },
    {
      "cell_type": "markdown",
      "source": [
        "## Perform calculations"
      ],
      "metadata": {
        "id": "WaSoUBt6alY0"
      }
    },
    {
      "cell_type": "code",
      "execution_count": null,
      "source": [
        "n=100\n",
        "non_ensembled_prs = get_bootstrapped_pr_curves(predictions_df, ground_truth_df, n=n,method_label=\"CNN\")\n",
        "ensembled_prs = get_bootstrapped_pr_curves(ens_predictions_df, ground_truth_df,n=n, method_label=\"Ensemble\")\n",
        "blast_prs = get_bootstrapped_pr_curves(blast_df, ground_truth_df, n=n,method_label=\"Blast\")\n",
        "blast_and_cnn_ensemble_prs = get_bootstrapped_pr_curves(blast_and_cnn_ensemble, ground_truth_df, n=n,method_label=\"Blast/CNN-ensemble\")\n",
        "\n"
      ],
      "outputs": [],
      "metadata": {
        "id": "oiUrFouj0qKF",
        "colab": {
          "base_uri": "https://localhost:8080/",
          "height": 1000
        },
        "outputId": "91586e1f-4f7d-45c0-f7d4-9ed02e894c35"
      }
    },
    {
      "cell_type": "markdown",
      "source": [
        "## Interpolate curves"
      ],
      "metadata": {
        "id": "qmaFogaratmd"
      }
    },
    {
      "cell_type": "code",
      "execution_count": null,
      "source": [
        "from scipy.interpolate import interp1d\n",
        "\n",
        "\n",
        "def create_interpolated_df(single_curve):\n",
        "  interp_recall_fn = interp1d(single_curve.recall, single_curve.precision,bounds_error=False)\n",
        "  recall = np.linspace(0.95, 1, 5001)\n",
        "  interpolated_precisions = interp_recall_fn(recall)\n",
        "  return pd.DataFrame({\"type\":single_curve.type.to_list()[0],\"group\":single_curve.group.to_list()[0], \"precision\":interpolated_precisions, \"recall\":recall })"
      ],
      "outputs": [],
      "metadata": {
        "id": "axXGD0T-lQxD"
      }
    },
    {
      "cell_type": "code",
      "execution_count": null,
      "source": [
        "\n",
        "curves=[ensembled_prs,non_ensembled_prs,blast_and_cnn_ensemble_prs,blast_prs]\n",
        "dfs = []\n",
        "\n",
        "for curve_set in curves:\n",
        "  for c2 in curve_set:\n",
        "    for group_name, df_group in c2.groupby(\"group\"):\n",
        "      dfs.append(create_interpolated_df(df_group))\n",
        "all=pd.concat(dfs)\n"
      ],
      "outputs": [],
      "metadata": {
        "id": "pnHKZRColhaK"
      }
    },
    {
      "cell_type": "code",
      "execution_count": null,
      "source": [
        "\n",
        "curves=[ensembled_prs,non_ensembled_prs,blast_and_cnn_ensemble_prs,blast_prs]\n",
        "dfs = []\n",
        "\n",
        "\n",
        "def create_f1(single_curve):\n",
        "\n",
        "  return pd.DataFrame({\"type\":single_curve.type.to_list()[0],\"group\":single_curve.group.to_list()[0], \"f1\":single_curve.f1.max() },index=[0])\n",
        "\n",
        "\n",
        "for curve_set in curves:\n",
        "  for c2 in curve_set:\n",
        "    for group_name, df_group in c2.groupby(\"group\"):\n",
        "      dfs.append(create_f1(df_group))\n",
        "f1=pd.concat(dfs)\n",
        "\n",
        "def lower_func(x):\n",
        "    return x.quantile(0.025)\n",
        "\n",
        "def upper_func(x):\n",
        "    return x.quantile(0.975)\n",
        "\n",
        "f1_data = f1.groupby(['type','group']).agg( lower=(\"f1\",lower_func),upper=(\"f1\",upper_func)).reset_index()\n",
        "f1_data"
      ],
      "outputs": [],
      "metadata": {
        "id": "OJNtsQOcnlQE"
      }
    },
    {
      "cell_type": "code",
      "execution_count": null,
      "source": [
        "f1"
      ],
      "outputs": [],
      "metadata": {
        "id": "2fpGO278n2SE"
      }
    },
    {
      "cell_type": "code",
      "execution_count": null,
      "source": [
        "def lower_func(x):\n",
        "    return x.quantile(0.025)\n",
        "\n",
        "def upper_func(x):\n",
        "    return x.quantile(0.975)\n",
        "\n",
        "for_graph = all.groupby(['type','group','recall']).agg( lower=(\"precision\",lower_func),upper=(\"precision\",upper_func)).reset_index()\n"
      ],
      "outputs": [],
      "metadata": {
        "id": "0YIkZtjeoJkU"
      }
    },
    {
      "cell_type": "code",
      "execution_count": null,
      "source": [
        "a = get_bootstrapped_pr_curves(predictions_df, ground_truth_df, n=1,sample_with_replacement=False, method_label=\"CNN\")[0]\n",
        "b = get_bootstrapped_pr_curves(ens_predictions_df, ground_truth_df, n=1,sample_with_replacement=False, method_label=\"Ensemble\")[0]\n",
        "c = get_bootstrapped_pr_curves(blast_df, ground_truth_df, n=1,sample_with_replacement=False, method_label = \"Blast\")[0]\n",
        "d = get_bootstrapped_pr_curves(blast_and_cnn_ensemble, ground_truth_df, n=1,sample_with_replacement=False, method_label=\"Blast/CNN-ensemble\")[0]\n",
        "all_single = pd.concat([a,b,c,d])\n"
      ],
      "outputs": [],
      "metadata": {
        "id": "4ARrq09Kr8cM"
      }
    },
    {
      "cell_type": "markdown",
      "source": [
        "## Plot bootstrap curves"
      ],
      "metadata": {
        "id": "Xs85vkjhbD-t"
      }
    },
    {
      "cell_type": "code",
      "execution_count": null,
      "source": [
        "import plotly.graph_objects as go\n",
        "\n",
        "fig = go.Figure()\n",
        "\n",
        "def get_color(index, transparent):\n",
        "  colors = {'CNN':[150,0,0],'Ensemble':[0,125,125],'Blast/CNN-ensemble':[0,200,0],'Blast':[125,0,255]}\n",
        "  transparency = 0.2 if transparent else 1\n",
        "  return f\"rgba({colors[index][0]}, {colors[index][1]}, {colors[index][2]}, {transparency})\"\n",
        "\n",
        "\n",
        "\n",
        "colors = {'CNN':'green','Ensemble':'red', 'Blast/CNN-ensemble' : 'blue', 'Blast':'orange'}\n",
        "for the_type, new in for_graph.groupby('type'):\n",
        "  fig.add_trace(go.Scatter(x=new['recall'], y=new['upper'],\n",
        "      mode='lines',\n",
        " showlegend=False,\n",
        "      line=dict(width=0.0, color=get_color(the_type,False)),\n",
        "      name=\"\",\n",
        "      hoverinfo='skip',\n",
        "      ))\n",
        "  fig.add_trace(go.Scatter(\n",
        "      x=new['recall'],\n",
        "      y=new['lower'],\n",
        "      name=the_type,\n",
        "      hoverinfo='skip',\n",
        "      showlegend=False,\n",
        "     line=dict(width=0.0, color=get_color(the_type,False)),\n",
        "      fill='tonexty',fillcolor=get_color(the_type,True),))\n",
        "  \n",
        "\n",
        "\n",
        "for the_type, new in all_single.groupby('type'):\n",
        "    fig.add_trace(go.Scatter(\n",
        "      x=new['recall'],\n",
        "      y=new['precision'],\n",
        "      name=the_type,\n",
        "      \n",
        "     line=dict(width=1, color=get_color(the_type,False))))\n",
        "\n",
        "\n",
        "fig.update_xaxes(title=\"Recall\", range=[0.95,1])\n",
        "fig.update_yaxes(title=\"Precision\", range=[0.95,1])\n",
        "fig.update_layout(template=\"plotly_white\")\n",
        "fig.update_layout(legend_title_text='Method')\n",
        "\n",
        "fig.update_layout(\n",
        "    title=\"Precision and recall by method\",\n",
        "   \n",
        ")\n",
        "\n",
        "fig.show()\n",
        "\n",
        "\n"
      ],
      "outputs": [],
      "metadata": {
        "id": "Ii8vVgD9omWs"
      }
    },
    {
      "cell_type": "code",
      "execution_count": null,
      "source": [
        "\n",
        "curves=[ensembled_prs,non_ensembled_prs,blast_and_cnn_ensemble_prs,blast_prs]\n",
        "dfs = []\n",
        "\n",
        "\n",
        "def create_f1(single_curve):\n",
        "\n",
        "  return pd.DataFrame({\"type\":single_curve.type.to_list()[0],\"group\":single_curve.group.to_list()[0], \"f1\":single_curve.f1.max() },index=[0])\n",
        "\n",
        "\n",
        "for curve_set in curves:\n",
        "  for c2 in curve_set:\n",
        "    for group_name, df_group in c2.groupby(\"group\"):\n",
        "      dfs.append(create_f1(df_group))\n",
        "f1=pd.concat(dfs)\n",
        "\n",
        "def lower_func(x):\n",
        "    return x.quantile(0.025)\n",
        "\n",
        "def upper_func(x):\n",
        "    return x.quantile(0.975)\n",
        "\n",
        "f1_data = f1.groupby(['type','group']).agg( lower=(\"f1\",lower_func),upper=(\"f1\",upper_func)).reset_index()\n",
        "f1_data"
      ],
      "outputs": [],
      "metadata": {
        "id": "9MqxNw30LUWQ"
      }
    },
    {
      "cell_type": "markdown",
      "source": [
        "## Examine effect of number of training examples on performance\n",
        "\n"
      ],
      "metadata": {
        "id": "0q_aYzUWxMIL"
      }
    },
    {
      "cell_type": "code",
      "execution_count": null,
      "source": [
        "def resample_with_replacement(df):\n",
        "  indices = np.random.randint(0,df.shape[0],df.shape[0])\n",
        "  return df.iloc[indices,:]\n",
        "\n",
        "\n",
        "def bootstrap(df, n=100):\n",
        "  resampled_results = []\n",
        "  for x in tqdm.tqdm(range(n),position=0):\n",
        "    resampled = resample_with_replacement(df)\n",
        "    data = colab_evaluation.stats_by_group(resampled.groupby('count_cut'))\n",
        "    resampled_results.append(data)\n",
        "  return pd.concat(resampled_results)\n",
        "\n",
        "\n"
      ],
      "outputs": [],
      "metadata": {
        "id": "2IwNqpUVxMIM"
      }
    },
    {
      "cell_type": "code",
      "execution_count": null,
      "source": [
        "train_counts  = train_ground_truth.groupby(\"label\", as_index=False).count().rename(columns={\"train_seq_id\":\"count\"})"
      ],
      "outputs": [],
      "metadata": {
        "id": "T5okaIZSxMIM"
      }
    },
    {
      "cell_type": "code",
      "execution_count": null,
      "source": [
        "both = colab_evaluation.assign_tp_fp_fn(predictions_df,ground_truth_df,0.625205)\n",
        "both = both.merge(train_counts,left_on=\"label\",right_on=\"label\",how=\"outer\")\n",
        "both.fillna(0)\n",
        "both['count_cut'] = pd.cut(both['count'],bins = (0,5,10,20,40,100,1000,500000)) \n",
        "bootstrapped_data = bootstrap(both,n=5)\n",
        "bootstrapped_data['count_cut_str'] = bootstrapped_data['count_cut'].astype(str)"
      ],
      "outputs": [],
      "metadata": {
        "id": "t1FeqUo1xMIM",
        "colab": {
          "base_uri": "https://localhost:8080/"
        },
        "outputId": "762d89bd-0829-4bd0-e054-e28ea0d8cd8c"
      }
    },
    {
      "cell_type": "code",
      "execution_count": null,
      "source": [
        "bootstrapped_data['type'] = \"CNN\""
      ],
      "outputs": [],
      "metadata": {
        "id": "qgWT8a_e_RO0"
      }
    },
    {
      "cell_type": "code",
      "execution_count": null,
      "source": [
        "both = colab_evaluation.assign_tp_fp_fn(blast_df,ground_truth_df,60.5)\n",
        "both = both.merge(train_counts,left_on=\"label\",right_on=\"label\",how=\"outer\")\n",
        "both.fillna(0)\n",
        "both['count_cut'] = pd.cut(both['count'],bins = (0,5,10,20,40,100,1000,500000)) \n",
        "\n",
        "bootstrapped_data_blast = bootstrap(both,n=100)\n",
        "bootstrapped_data_blast['type'] = \"BLAST\""
      ],
      "outputs": [],
      "metadata": {
        "id": "VD9BtlLoT4bq",
        "colab": {
          "base_uri": "https://localhost:8080/"
        },
        "outputId": "a128558e-952d-4dce-8a8c-95bed15e197c"
      }
    },
    {
      "cell_type": "code",
      "execution_count": null,
      "source": [
        "both = colab_evaluation.assign_tp_fp_fn(ens_predictions_df,ground_truth_df,0.25)\n",
        "both = both.merge(train_counts,left_on=\"label\",right_on=\"label\",how=\"outer\")\n",
        "both.fillna(0)\n",
        "both['count_cut'] = pd.cut(both['count'],bins = (0,5,10,20,40,100,1000,500000)) \n",
        "\n",
        "bootstrapped_data_ens = bootstrap(both,n=100)\n",
        "bootstrapped_data_ens['type'] = \"Ensembled CNNs\""
      ],
      "outputs": [],
      "metadata": {
        "id": "mkhFKt53Z10D",
        "colab": {
          "base_uri": "https://localhost:8080/"
        },
        "outputId": "28e26ca5-78dd-4b56-cfc1-63dec1fad319"
      }
    },
    {
      "cell_type": "code",
      "execution_count": null,
      "source": [
        "both = colab_evaluation.assign_tp_fp_fn(blast_and_cnn_ensemble,ground_truth_df,0.17)\n",
        "both = both.merge(train_counts,left_on=\"label\",right_on=\"label\",how=\"outer\")\n",
        "both.fillna(0)\n",
        "both['count_cut'] = pd.cut(both['count'],bins = (0,5,10,20,40,100,1000,500000)) \n",
        "\n",
        "bootstrapped_data_combo = bootstrap(both,n=100)\n",
        "bootstrapped_data_combo['type'] = \"Ensembled CNNs with BLAST\"\n"
      ],
      "outputs": [],
      "metadata": {
        "id": "xLuIUP6ZKsHc",
        "colab": {
          "base_uri": "https://localhost:8080/"
        },
        "outputId": "7737b712-b15f-456d-d6e6-8a33532578fe"
      }
    },
    {
      "cell_type": "code",
      "execution_count": null,
      "source": [
        "bootstrapped_merge = pd.concat([bootstrapped_data_blast, bootstrapped_data,bootstrapped_data_ens,bootstrapped_data_combo], ignore_index=True)\n",
        "\n",
        "bootstrapped_merge['count_cut_str'] = bootstrapped_merge['count_cut'].astype(str)\n",
        "fig = px.box(bootstrapped_merge,width=700,color=\"type\", x=\"count_cut_str\",y=\"f1\",labels={\"count_cut_str\":\"Number of training examples per label\",\"f1\":\"F1\"},template=\"simple_white\")\n",
        "fig.show()"
      ],
      "outputs": [],
      "metadata": {
        "id": "dIYzGXMzKBlt",
        "colab": {
          "base_uri": "https://localhost:8080/",
          "height": 542
        },
        "outputId": "e4d1759a-5419-4656-b1e1-575a88db50ff"
      }
    }
  ]
}