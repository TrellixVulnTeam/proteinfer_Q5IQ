{
  "nbformat": 4,
  "nbformat_minor": 0,
  "metadata": {
    "colab": {
      "name": "Price comparison",
      "provenance": [],
      "collapsed_sections": []
    },
    "kernelspec": {
      "display_name": "Python 3",
      "name": "python3"
    },
    "accelerator": "GPU"
  },
  "cells": [
    {
      "cell_type": "code",
      "metadata": {
        "id": "E9iwE1jezcGB",
        "colab": {
          "base_uri": "https://localhost:8080/"
        },
        "outputId": "a55b6896-b887-48b6-dccc-eb60f0c4eca3"
      },
      "source": [
        "!git clone https://github.com/google-research/proteinfer \n",
        "!pip install -q -r proteinfer/requirements.txt\n",
        "%cd proteinfer\n"
      ],
      "execution_count": 54,
      "outputs": [
        {
          "output_type": "stream",
          "name": "stdout",
          "text": [
            "Cloning into 'proteinfer'...\n",
            "remote: Enumerating objects: 480, done.\u001b[K\n",
            "remote: Counting objects: 100% (203/203), done.\u001b[K\n",
            "remote: Compressing objects: 100% (168/168), done.\u001b[K\n",
            "remote: Total 480 (delta 94), reused 49 (delta 20), pack-reused 277\u001b[K\n",
            "Receiving objects: 100% (480/480), 9.83 MiB | 14.94 MiB/s, done.\n",
            "Resolving deltas: 100% (233/233), done.\n",
            "/content/proteinfer/proteinfer\n"
          ]
        }
      ]
    },
    {
      "cell_type": "code",
      "metadata": {
        "id": "mw86VQUi-omr",
        "colab": {
          "base_uri": "https://localhost:8080/"
        },
        "outputId": "dd7840eb-226a-44b3-da3a-de5d73342d76"
      },
      "source": [
        "!cd proteinfer\n",
        "!ls"
      ],
      "execution_count": 55,
      "outputs": [
        {
          "output_type": "stream",
          "name": "stdout",
          "text": [
            "/bin/bash: line 0: cd: proteinfer: No such file or directory\n",
            "baseline_utils.py\t  LICENSE\t\t   Random_EC.ipynb\n",
            "baseline_utils_test.py\t  misc\t\t\t   README.md\n",
            "colab_evaluation.py\t  parenthood_bin.py\t   requirements.txt\n",
            "colab_evaluation_test.py  parenthood_lib.py\t   testdata\n",
            "CONTRIBUTING.md\t\t  parenthood_lib_test.py   test_util.py\n",
            "evaluation.py\t\t  protein_dataset.py\t   test_util_test.py\n",
            "evaluation_test.py\t  protein_dataset_test.py  train.py\n",
            "hparams_sets.py\t\t  proteinfer.py\t\t   train_test.py\n",
            "inference.py\t\t  proteinfer_test.py\t   utils.py\n",
            "inference_test.py\t  protein_model.py\t   utils_test.py\n",
            "install_models.py\t  protein_model_test.py\n"
          ]
        }
      ]
    },
    {
      "cell_type": "code",
      "metadata": {
        "id": "Zu10hrem8ltZ"
      },
      "source": [
        "import inference\n",
        "import pandas as pd\n",
        "import evaluation\n",
        "import parenthood_lib\n",
        "\n",
        "import re"
      ],
      "execution_count": 56,
      "outputs": []
    },
    {
      "cell_type": "markdown",
      "metadata": {
        "id": "lA8bjb_T8ffX"
      },
      "source": [
        "# Parse Price's ground truth labels"
      ]
    },
    {
      "cell_type": "code",
      "metadata": {
        "id": "WJ_sUsOL0UIi",
        "colab": {
          "base_uri": "https://localhost:8080/"
        },
        "outputId": "d2e84120-c223-4a15-b1bc-55290c55083d"
      },
      "source": [
        "!wget https://storage.googleapis.com/brain-genomics-public/research/proteins/proteinfer/colab_support/price_enzymes.tsv"
      ],
      "execution_count": 57,
      "outputs": [
        {
          "output_type": "stream",
          "name": "stdout",
          "text": [
            "--2021-09-08 16:31:16--  https://storage.googleapis.com/brain-genomics-public/research/proteins/proteinfer/colab_support/price_enzymes.tsv\n",
            "Resolving storage.googleapis.com (storage.googleapis.com)... 74.125.202.128, 74.125.69.128, 64.233.181.128, ...\n",
            "Connecting to storage.googleapis.com (storage.googleapis.com)|74.125.202.128|:443... connected.\n",
            "HTTP request sent, awaiting response... 200 OK\n",
            "Length: 400317 (391K) [application/octet-stream]\n",
            "Saving to: ‘price_enzymes.tsv’\n",
            "\n",
            "\rprice_enzymes.tsv     0%[                    ]       0  --.-KB/s               \rprice_enzymes.tsv   100%[===================>] 390.93K  --.-KB/s    in 0.004s  \n",
            "\n",
            "2021-09-08 16:31:16 (89.3 MB/s) - ‘price_enzymes.tsv’ saved [400317/400317]\n",
            "\n"
          ]
        }
      ]
    },
    {
      "cell_type": "code",
      "metadata": {
        "id": "JuN0SmQfosHJ"
      },
      "source": [
        "with open('price_enzymes.tsv') as f:\n",
        "  price_enzymes = pd.read_csv(f, sep='\\t')"
      ],
      "execution_count": 58,
      "outputs": []
    },
    {
      "cell_type": "code",
      "metadata": {
        "id": "bSpUUPHF50-z"
      },
      "source": [
        "price_enzymes_w_annotation = price_enzymes[price_enzymes.new_annotation.apply(lambda x: x.count('EC ') == 1)].copy()"
      ],
      "execution_count": 59,
      "outputs": []
    },
    {
      "cell_type": "markdown",
      "metadata": {
        "id": "a9SwAfKu8sMi"
      },
      "source": [
        "# Predict for these sequences"
      ]
    },
    {
      "cell_type": "code",
      "metadata": {
        "id": "407DGW2d0p5j",
        "colab": {
          "base_uri": "https://localhost:8080/"
        },
        "outputId": "9d78dd3a-374a-4407-9490-f0c6eca79c60"
      },
      "source": [
        "!wget https://storage.googleapis.com/brain-genomics-public/research/proteins/proteinfer/models/zipped_models/noxpnd_cnn_swissprot_ec_random_swiss-cnn_for_swissprot_ec_random-13685140.tar.gz"
      ],
      "execution_count": 60,
      "outputs": [
        {
          "output_type": "stream",
          "name": "stdout",
          "text": [
            "--2021-09-08 16:31:16--  https://storage.googleapis.com/brain-genomics-public/research/proteins/proteinfer/models/zipped_models/noxpnd_cnn_swissprot_ec_random_swiss-cnn_for_swissprot_ec_random-13685140.tar.gz\n",
            "Resolving storage.googleapis.com (storage.googleapis.com)... 74.125.202.128, 74.125.69.128, 173.194.194.128, ...\n",
            "Connecting to storage.googleapis.com (storage.googleapis.com)|74.125.202.128|:443... connected.\n",
            "HTTP request sent, awaiting response... 200 OK\n",
            "Length: 134391480 (128M) [application/octet-stream]\n",
            "Saving to: ‘noxpnd_cnn_swissprot_ec_random_swiss-cnn_for_swissprot_ec_random-13685140.tar.gz’\n",
            "\n",
            "noxpnd_cnn_swisspro 100%[===================>] 128.17M   146MB/s    in 0.9s    \n",
            "\n",
            "2021-09-08 16:31:17 (146 MB/s) - ‘noxpnd_cnn_swissprot_ec_random_swiss-cnn_for_swissprot_ec_random-13685140.tar.gz’ saved [134391480/134391480]\n",
            "\n"
          ]
        }
      ]
    },
    {
      "cell_type": "code",
      "metadata": {
        "id": "mc8RU2T_006q"
      },
      "source": [
        "!tar xzf noxpnd_cnn_swissprot_ec_random_swiss-cnn_for_swissprot_ec_random-13685140.tar.gz"
      ],
      "execution_count": 61,
      "outputs": []
    },
    {
      "cell_type": "code",
      "metadata": {
        "id": "vPAMz95A10l4"
      },
      "source": [
        "inferrer = inference.Inferrer('noxpnd_cnn_swissprot_ec_random_swiss-cnn_for_swissprot_ec_random-13685140', use_tqdm=True)"
      ],
      "execution_count": 62,
      "outputs": []
    },
    {
      "cell_type": "code",
      "metadata": {
        "id": "kiXZNz-N24c8",
        "colab": {
          "base_uri": "https://localhost:8080/"
        },
        "outputId": "98502fed-b597-4d5c-d0e1-0c95f7e247e2"
      },
      "source": [
        "predictions = inferrer.get_activations(list(price_enzymes_w_annotation.protein_sequence))"
      ],
      "execution_count": null,
      "outputs": [
        {
          "output_type": "stream",
          "name": "stderr",
          "text": [
            "\rAnnotating batches of sequences:   0%|          | 0/3 [00:00<?, ?it/s]"
          ]
        }
      ]
    },
    {
      "cell_type": "code",
      "metadata": {
        "id": "yjoH2ojYUnzr"
      },
      "source": [
        "# Turn prediction array into actual labels by using the vocab.\n",
        "cnn_label_vocab = inferrer.get_variable('label_vocab:0').astype(str)\n",
        "price_enzymes_w_annotation['predicted_label'] = evaluation.filter_predictions_to_above_threshold(predictions, 0.148222, cnn_label_vocab) # Threshold is that which maximizes f1 score."
      ],
      "execution_count": null,
      "outputs": []
    },
    {
      "cell_type": "code",
      "metadata": {
        "id": "ZxySu4lY3RKv"
      },
      "source": [
        "!wget https://storage.googleapis.com/brain-genomics-public/research/proteins/proteinfer/colab_support/parenthood.json.gz"
      ],
      "execution_count": null,
      "outputs": []
    },
    {
      "cell_type": "code",
      "metadata": {
        "id": "1HLvySfK2rFm"
      },
      "source": [
        "# Find the most specific label(s) given to each protein.\n",
        "label_normalizer = parenthood_lib.get_applicable_label_dict('parenthood.json.gz')\n",
        "price_enzymes_w_annotation = parenthood_lib.filter_labels_to_most_specific(price_enzymes_w_annotation, label_normalizer)"
      ],
      "execution_count": null,
      "outputs": []
    },
    {
      "cell_type": "code",
      "metadata": {
        "id": "lLJaHyQs-8uF"
      },
      "source": [
        "to_examine = price_enzymes_w_annotation.copy()\n",
        "\n",
        "# Drop labels where we have > 1 prediction for ease of comparison.\n",
        "to_examine = to_examine[(to_examine.predicted_label.apply(len) == 1)].copy()\n",
        "\n",
        "# Format predicted and true label identically.\n",
        "to_examine['true_label'] = to_examine.new_annotation.apply(lambda x: re.findall(r'\\(EC (.{1,3}\\..{1,3}\\..{1,3}\\..{1,3})\\)', x)[0])\n",
        "to_examine['predicted_label'] = to_examine.predicted_label.apply(lambda x: list(x)[0].replace('EC:', ''))"
      ],
      "execution_count": null,
      "outputs": []
    },
    {
      "cell_type": "markdown",
      "metadata": {
        "id": "zGkb5EcX9K7H"
      },
      "source": [
        "# Compute agreement and plot"
      ]
    },
    {
      "cell_type": "code",
      "metadata": {
        "id": "Vy_TURPTRjNS"
      },
      "source": [
        "performance_by_level = pd.DataFrame([\n",
        "    evaluation.ec_agreement_for_level(to_examine, 1),\n",
        "    evaluation.ec_agreement_for_level(to_examine, 2),\n",
        "    evaluation.ec_agreement_for_level(to_examine, 3),\n",
        "    evaluation.ec_agreement_for_level(to_examine, 4)\n",
        "], columns=['Correct', 'Incorrect', 'Not called'], index=range(1, 5))[['Correct','Not called',\"Incorrect\"]]"
      ],
      "execution_count": null,
      "outputs": []
    },
    {
      "cell_type": "code",
      "metadata": {
        "id": "7KM1HDf26S76"
      },
      "source": [
        "print(performance_by_level)"
      ],
      "execution_count": null,
      "outputs": []
    },
    {
      "cell_type": "code",
      "metadata": {
        "id": "bk9F-kntOH1K"
      },
      "source": [
        "array = performance_by_level.to_numpy()\n",
        "\n",
        "array/array.sum(axis=1,keepdims=True)"
      ],
      "execution_count": null,
      "outputs": []
    },
    {
      "cell_type": "code",
      "metadata": {
        "id": "UIc9Xd2BpT1U"
      },
      "source": [
        "performance_by_level['position']=performance_by_level.index\n",
        "melted=pd.melt(performance_by_level,'position')"
      ],
      "execution_count": null,
      "outputs": []
    },
    {
      "cell_type": "code",
      "metadata": {
        "id": "VYFnYOHQNXlh"
      },
      "source": [
        "from plotnine import *\n",
        "import matplotlib as mpl\n",
        "mpl.rcParams['figure.dpi']= 800"
      ],
      "execution_count": null,
      "outputs": []
    },
    {
      "cell_type": "code",
      "metadata": {
        "id": "grsYMd29NJYJ"
      },
      "source": [
        "\n",
        "melted['variable'] = melted['variable'].astype('category').cat.reorder_categories([\"Incorrect\",\"Not called\",\"Correct\"], ordered=True )\n",
        "\n",
        "(ggplot(melted,aes(x=\"position\",fill=\"variable\",y=\"value\"))+\n",
        "geom_col(color=\"black\", position=\"fill\")+\n",
        "scale_fill_manual([\"red\",\"lightgray\",\"green\"])+ theme_classic()\n",
        ")\n"
      ],
      "execution_count": null,
      "outputs": []
    },
    {
      "cell_type": "code",
      "metadata": {
        "id": "hilfWfbiNTDA"
      },
      "source": [
        ""
      ],
      "execution_count": null,
      "outputs": []
    }
  ]
}